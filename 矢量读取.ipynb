{
 "cells": [
  {
   "cell_type": "code",
   "execution_count": 2,
   "metadata": {
    "collapsed": true
   },
   "outputs": [],
   "source": [
    "from gdal import ogr\n",
    "import os;"
   ]
  },
  {
   "cell_type": "code",
   "execution_count": 3,
   "outputs": [],
   "source": [
    "path=\"E:\\桌面\\open_GIS\\TWO\\Kunming_prj.shp\"\n",
    "ds=ogr.Open(path,0)"
   ],
   "metadata": {
    "collapsed": false,
    "pycharm": {
     "name": "#%%\n"
    }
   }
  },
  {
   "cell_type": "code",
   "execution_count": 8,
   "outputs": [],
   "source": [
    "layer=ds.GetLayer()"
   ],
   "metadata": {
    "collapsed": false,
    "pycharm": {
     "name": "#%%\n"
    }
   }
  },
  {
   "cell_type": "code",
   "execution_count": 9,
   "outputs": [
    {
     "name": "stdout",
     "output_type": "stream",
     "text": [
      "<osgeo.ogr.Layer; proxy of <Swig Object of type 'OGRLayerShadow *' at 0x0000015CCDC5EB40> >\n"
     ]
    }
   ],
   "source": [
    "print(layer)"
   ],
   "metadata": {
    "collapsed": false,
    "pycharm": {
     "name": "#%%\n"
    }
   }
  },
  {
   "cell_type": "code",
   "execution_count": 12,
   "outputs": [],
   "source": [
    "fields=[];\n",
    "fea=layer.GetFeature(0)\n",
    "for i in range(layer.GetFeature(0).GetFieldCount()):\n",
    "    field=fea.GetFieldDefnRef(i).name\n",
    "    fields.append(field);"
   ],
   "metadata": {
    "collapsed": false,
    "pycharm": {
     "name": "#%%\n"
    }
   }
  },
  {
   "cell_type": "code",
   "execution_count": 13,
   "outputs": [
    {
     "name": "stdout",
     "output_type": "stream",
     "text": [
      "['id', 'name', 'site', 'area']\n"
     ]
    }
   ],
   "source": [
    "print(fields)"
   ],
   "metadata": {
    "collapsed": false,
    "pycharm": {
     "name": "#%%\n"
    }
   }
  },
  {
   "cell_type": "code",
   "execution_count": 15,
   "outputs": [],
   "source": [
    "field_name=\"name\"\n",
    "path_out=\"E:\\桌面\\open_GIS\\TWO\\kunming_test_out\""
   ],
   "metadata": {
    "collapsed": false,
    "pycharm": {
     "name": "#%%\n"
    }
   }
  },
  {
   "cell_type": "code",
   "execution_count": null,
   "outputs": [],
   "source": [
    "\n",
    "driver=ogr.GetDriverByName(\"ESRI Shapefile\")\n",
    "ds_out=driver.CreateDataSource(path_out)\n",
    "layer_out=ds_out.CreateLayer(\"Kunming_test_out\",geom_type=ogr.wkbPolygon,srs=layer.GetSpatialReference())\n",
    "field_out=ogr.FieldDefn(field_name,ogr.OFTString)\n",
    "layer_out.CreateField(field_out)\n",
    "fea_defn=layer_out.GetLayerDefn()\n",
    "\n",
    "for i in range(layer.GetFeatureCount()):\n",
    "    print(i)\n",
    "    fea=layer.GetFeature(i)\n",
    "    geo=fea.geometry()\n",
    "    fea_out=ogr.Feature(fea_defn)\n",
    "    fea_out.SetGeometry(geo)\n",
    "    field_value=fea.Getfield(field_name)"
   ],
   "metadata": {
    "collapsed": false,
    "pycharm": {
     "name": "#%%\n"
    }
   }
  }
 ],
 "metadata": {
  "kernelspec": {
   "display_name": "Python 3",
   "language": "python",
   "name": "python3"
  },
  "language_info": {
   "codemirror_mode": {
    "name": "ipython",
    "version": 2
   },
   "file_extension": ".py",
   "mimetype": "text/x-python",
   "name": "python",
   "nbconvert_exporter": "python",
   "pygments_lexer": "ipython2",
   "version": "2.7.6"
  }
 },
 "nbformat": 4,
 "nbformat_minor": 0
}