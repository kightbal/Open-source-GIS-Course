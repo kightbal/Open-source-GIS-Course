{
 "cells": [
  {
   "cell_type": "markdown",
   "metadata": {},
   "source": [
    "### **利用geopandas进行矢量数据快速读、写、及可视化.**\n",
    "geopandas是用来处理地理空间数据的python第三方库，它是在pandas的基础上建立的，融合了pandas的数据类型，并且提供了操作地理空间数据的高级接口，使得在python中进行GIS操作变成可能。\n"
   ]
  },
  {
   "cell_type": "code",
   "execution_count": 2,
   "metadata": {},
   "outputs": [],
   "source": [
    "import geopandas as gpd\n",
    "import matplotlib.pyplot as plt\n",
    "import numpy as np\n"
   ]
  },
  {
   "cell_type": "code",
   "execution_count": 3,
   "metadata": {},
   "outputs": [],
   "source": [
    "path_kunming = 'data/Section-2/kunming_districts.shp'\n",
    "path_kunming_out_2 = 'data/Section-4/vector_out_2.shp'\n"
   ]
  },
  {
   "cell_type": "markdown",
   "metadata": {},
   "source": [
    "### 1. 读入矢量数据"
   ]
  },
  {
   "cell_type": "code",
   "execution_count": 4,
   "metadata": {},
   "outputs": [
    {
     "data": {
      "text/html": [
       "<div>\n",
       "<style scoped>\n",
       "    .dataframe tbody tr th:only-of-type {\n",
       "        vertical-align: middle;\n",
       "    }\n",
       "\n",
       "    .dataframe tbody tr th {\n",
       "        vertical-align: top;\n",
       "    }\n",
       "\n",
       "    .dataframe thead th {\n",
       "        text-align: right;\n",
       "    }\n",
       "</style>\n",
       "<table border=\"1\" class=\"dataframe\">\n",
       "  <thead>\n",
       "    <tr style=\"text-align: right;\">\n",
       "      <th></th>\n",
       "      <th>dt_adcode</th>\n",
       "      <th>dt_name</th>\n",
       "      <th>ct_adcode</th>\n",
       "      <th>ct_name</th>\n",
       "      <th>pr_adcode</th>\n",
       "      <th>pr_name</th>\n",
       "      <th>cn_adcode</th>\n",
       "      <th>cn_name</th>\n",
       "      <th>geometry</th>\n",
       "    </tr>\n",
       "  </thead>\n",
       "  <tbody>\n",
       "    <tr>\n",
       "      <th>0</th>\n",
       "      <td>530102</td>\n",
       "      <td>wuhua</td>\n",
       "      <td>530100</td>\n",
       "      <td>昆明市</td>\n",
       "      <td>530000</td>\n",
       "      <td>云南省</td>\n",
       "      <td>100000</td>\n",
       "      <td>中华人民共和国</td>\n",
       "      <td>MULTIPOLYGON (((102.71331 25.13651, 102.71547 ...</td>\n",
       "    </tr>\n",
       "    <tr>\n",
       "      <th>1</th>\n",
       "      <td>530103</td>\n",
       "      <td>panglong</td>\n",
       "      <td>530100</td>\n",
       "      <td>昆明市</td>\n",
       "      <td>530000</td>\n",
       "      <td>云南省</td>\n",
       "      <td>100000</td>\n",
       "      <td>中华人民共和国</td>\n",
       "      <td>POLYGON ((102.71668 25.04473, 102.71663 25.045...</td>\n",
       "    </tr>\n",
       "    <tr>\n",
       "      <th>2</th>\n",
       "      <td>530111</td>\n",
       "      <td>guandu</td>\n",
       "      <td>530100</td>\n",
       "      <td>昆明市</td>\n",
       "      <td>530000</td>\n",
       "      <td>云南省</td>\n",
       "      <td>100000</td>\n",
       "      <td>中华人民共和国</td>\n",
       "      <td>POLYGON ((102.71717 25.03341, 102.71792 25.033...</td>\n",
       "    </tr>\n",
       "    <tr>\n",
       "      <th>3</th>\n",
       "      <td>530112</td>\n",
       "      <td>xishan</td>\n",
       "      <td>530100</td>\n",
       "      <td>昆明市</td>\n",
       "      <td>530000</td>\n",
       "      <td>云南省</td>\n",
       "      <td>100000</td>\n",
       "      <td>中华人民共和国</td>\n",
       "      <td>MULTIPOLYGON (((102.50726 24.86019, 102.50689 ...</td>\n",
       "    </tr>\n",
       "    <tr>\n",
       "      <th>4</th>\n",
       "      <td>530113</td>\n",
       "      <td>dongchuan</td>\n",
       "      <td>530100</td>\n",
       "      <td>昆明市</td>\n",
       "      <td>530000</td>\n",
       "      <td>云南省</td>\n",
       "      <td>100000</td>\n",
       "      <td>中华人民共和国</td>\n",
       "      <td>POLYGON ((102.80340 26.30291, 102.80537 26.303...</td>\n",
       "    </tr>\n",
       "    <tr>\n",
       "      <th>5</th>\n",
       "      <td>530114</td>\n",
       "      <td>chenggong</td>\n",
       "      <td>530100</td>\n",
       "      <td>昆明市</td>\n",
       "      <td>530000</td>\n",
       "      <td>云南省</td>\n",
       "      <td>100000</td>\n",
       "      <td>中华人民共和国</td>\n",
       "      <td>POLYGON ((102.85321 24.69792, 102.85168 24.698...</td>\n",
       "    </tr>\n",
       "    <tr>\n",
       "      <th>6</th>\n",
       "      <td>530115</td>\n",
       "      <td>jinning</td>\n",
       "      <td>530100</td>\n",
       "      <td>昆明市</td>\n",
       "      <td>530000</td>\n",
       "      <td>云南省</td>\n",
       "      <td>100000</td>\n",
       "      <td>中华人民共和国</td>\n",
       "      <td>POLYGON ((102.73979 24.81731, 102.74137 24.815...</td>\n",
       "    </tr>\n",
       "  </tbody>\n",
       "</table>\n",
       "</div>"
      ],
      "text/plain": [
       "  dt_adcode    dt_name ct_adcode ct_name pr_adcode pr_name cn_adcode  cn_name  \\\n",
       "0    530102      wuhua    530100     昆明市    530000     云南省    100000  中华人民共和国   \n",
       "1    530103   panglong    530100     昆明市    530000     云南省    100000  中华人民共和国   \n",
       "2    530111     guandu    530100     昆明市    530000     云南省    100000  中华人民共和国   \n",
       "3    530112     xishan    530100     昆明市    530000     云南省    100000  中华人民共和国   \n",
       "4    530113  dongchuan    530100     昆明市    530000     云南省    100000  中华人民共和国   \n",
       "5    530114  chenggong    530100     昆明市    530000     云南省    100000  中华人民共和国   \n",
       "6    530115    jinning    530100     昆明市    530000     云南省    100000  中华人民共和国   \n",
       "\n",
       "                                            geometry  \n",
       "0  MULTIPOLYGON (((102.71331 25.13651, 102.71547 ...  \n",
       "1  POLYGON ((102.71668 25.04473, 102.71663 25.045...  \n",
       "2  POLYGON ((102.71717 25.03341, 102.71792 25.033...  \n",
       "3  MULTIPOLYGON (((102.50726 24.86019, 102.50689 ...  \n",
       "4  POLYGON ((102.80340 26.30291, 102.80537 26.303...  \n",
       "5  POLYGON ((102.85321 24.69792, 102.85168 24.698...  \n",
       "6  POLYGON ((102.73979 24.81731, 102.74137 24.815...  "
      ]
     },
     "execution_count": 4,
     "metadata": {},
     "output_type": "execute_result"
    }
   ],
   "source": [
    "kunming_gpd = gpd.read_file(path_kunming)\n",
    "kunming_gpd.head(7)\n"
   ]
  },
  {
   "cell_type": "markdown",
   "metadata": {},
   "source": [
    "### 2. 可视化矢量数据"
   ]
  },
  {
   "cell_type": "code",
   "execution_count": 12,
   "metadata": {},
   "outputs": [
    {
     "data": {
      "text/html": [
       "<div>\n",
       "<style scoped>\n",
       "    .dataframe tbody tr th:only-of-type {\n",
       "        vertical-align: middle;\n",
       "    }\n",
       "\n",
       "    .dataframe tbody tr th {\n",
       "        vertical-align: top;\n",
       "    }\n",
       "\n",
       "    .dataframe thead th {\n",
       "        text-align: right;\n",
       "    }\n",
       "</style>\n",
       "<table border=\"1\" class=\"dataframe\">\n",
       "  <thead>\n",
       "    <tr style=\"text-align: right;\">\n",
       "      <th></th>\n",
       "      <th>dt_adcode</th>\n",
       "      <th>dt_name</th>\n",
       "      <th>ct_adcode</th>\n",
       "      <th>ct_name</th>\n",
       "      <th>pr_adcode</th>\n",
       "      <th>pr_name</th>\n",
       "      <th>cn_adcode</th>\n",
       "      <th>cn_name</th>\n",
       "      <th>geometry</th>\n",
       "    </tr>\n",
       "  </thead>\n",
       "  <tbody>\n",
       "    <tr>\n",
       "      <th>5</th>\n",
       "      <td>530114</td>\n",
       "      <td>chenggong</td>\n",
       "      <td>530100</td>\n",
       "      <td>昆明市</td>\n",
       "      <td>530000</td>\n",
       "      <td>云南省</td>\n",
       "      <td>100000</td>\n",
       "      <td>中华人民共和国</td>\n",
       "      <td>POLYGON ((102.85321 24.69792, 102.85168 24.698...</td>\n",
       "    </tr>\n",
       "  </tbody>\n",
       "</table>\n",
       "</div>"
      ],
      "text/plain": [
       "  dt_adcode    dt_name ct_adcode ct_name pr_adcode pr_name cn_adcode  cn_name  \\\n",
       "5    530114  chenggong    530100     昆明市    530000     云南省    100000  中华人民共和国   \n",
       "\n",
       "                                            geometry  \n",
       "5  POLYGON ((102.85321 24.69792, 102.85168 24.698...  "
      ]
     },
     "execution_count": 12,
     "metadata": {},
     "output_type": "execute_result"
    }
   ],
   "source": [
    "ids_chenggong = np.where(kunming_gpd['dt_name'] == 'chenggong')[0]\n",
    "kunming_gpd.iloc[ids_chenggong,:]\n"
   ]
  },
  {
   "cell_type": "code",
   "execution_count": 13,
   "metadata": {},
   "outputs": [
    {
     "data": {
      "text/plain": [
       "<Axes: >"
      ]
     },
     "execution_count": 13,
     "metadata": {},
     "output_type": "execute_result"
    },
    {
     "data": {
      "image/png": "[encoded data removed]",
      "text/plain": [
       "<Figure size 800x400 with 2 Axes>"
      ]
     },
     "metadata": {},
     "output_type": "display_data"
    }
   ],
   "source": [
    "fig, ax = plt.subplots(1,2,figsize=(8,4))\n",
    "### 昆明区域\n",
    "kunming_gpd.plot(ax=ax[0], column='dt_name')\n",
    "### 呈贡区域\n",
    "id_chenggong = np.where(kunming_gpd['dt_name'] == 'chenggong')[0]\n",
    "kunming_chenggong_gpd = kunming_gpd.iloc[id_chenggong]\n",
    "kunming_chenggong_gpd.plot(ax=ax[1], color='green')\n"
   ]
  },
  {
   "cell_type": "markdown",
   "metadata": {},
   "source": [
    "#### **3. 写出矢量文件**"
   ]
  },
  {
   "cell_type": "markdown",
   "metadata": {},
   "source": [
    "#### 3.1 写出只含有特定字段(name)的矢量文件"
   ]
  },
  {
   "cell_type": "code",
   "execution_count": 8,
   "metadata": {},
   "outputs": [
    {
     "data": {
      "text/html": [
       "<div>\n",
       "<style scoped>\n",
       "    .dataframe tbody tr th:only-of-type {\n",
       "        vertical-align: middle;\n",
       "    }\n",
       "\n",
       "    .dataframe tbody tr th {\n",
       "        vertical-align: top;\n",
       "    }\n",
       "\n",
       "    .dataframe thead th {\n",
       "        text-align: right;\n",
       "    }\n",
       "</style>\n",
       "<table border=\"1\" class=\"dataframe\">\n",
       "  <thead>\n",
       "    <tr style=\"text-align: right;\">\n",
       "      <th></th>\n",
       "      <th>dt_name</th>\n",
       "      <th>geometry</th>\n",
       "    </tr>\n",
       "  </thead>\n",
       "  <tbody>\n",
       "    <tr>\n",
       "      <th>0</th>\n",
       "      <td>wuhua</td>\n",
       "      <td>MULTIPOLYGON (((102.71331 25.13651, 102.71547 ...</td>\n",
       "    </tr>\n",
       "    <tr>\n",
       "      <th>1</th>\n",
       "      <td>panglong</td>\n",
       "      <td>POLYGON ((102.71668 25.04473, 102.71663 25.045...</td>\n",
       "    </tr>\n",
       "    <tr>\n",
       "      <th>2</th>\n",
       "      <td>guandu</td>\n",
       "      <td>POLYGON ((102.71717 25.03341, 102.71792 25.033...</td>\n",
       "    </tr>\n",
       "    <tr>\n",
       "      <th>3</th>\n",
       "      <td>xishan</td>\n",
       "      <td>MULTIPOLYGON (((102.50726 24.86019, 102.50689 ...</td>\n",
       "    </tr>\n",
       "    <tr>\n",
       "      <th>4</th>\n",
       "      <td>dongchuan</td>\n",
       "      <td>POLYGON ((102.80340 26.30291, 102.80537 26.303...</td>\n",
       "    </tr>\n",
       "  </tbody>\n",
       "</table>\n",
       "</div>"
      ],
      "text/plain": [
       "     dt_name                                           geometry\n",
       "0      wuhua  MULTIPOLYGON (((102.71331 25.13651, 102.71547 ...\n",
       "1   panglong  POLYGON ((102.71668 25.04473, 102.71663 25.045...\n",
       "2     guandu  POLYGON ((102.71717 25.03341, 102.71792 25.033...\n",
       "3     xishan  MULTIPOLYGON (((102.50726 24.86019, 102.50689 ...\n",
       "4  dongchuan  POLYGON ((102.80340 26.30291, 102.80537 26.303..."
      ]
     },
     "execution_count": 8,
     "metadata": {},
     "output_type": "execute_result"
    }
   ],
   "source": [
    "path_kunming_out_1 = 'data/Section-4/vector_out_1.shp'\n",
    "kunming_out_1 = kunming_gpd[['dt_name', 'geometry']]\n",
    "kunming_out_1.head()\n"
   ]
  },
  {
   "cell_type": "code",
   "execution_count": 9,
   "metadata": {},
   "outputs": [],
   "source": [
    "# import pandas as pd\n",
    "kunming_out_1 = gpd.GeoDataFrame(kunming_out_1)\n",
    "kunming_out_1.to_file(path_kunming_out_1)\n"
   ]
  },
  {
   "cell_type": "markdown",
   "metadata": {},
   "source": [
    "#### 3.2 写出只含有特定特征（呈贡区）矢量文件\n"
   ]
  },
  {
   "cell_type": "code",
   "execution_count": 10,
   "metadata": {},
   "outputs": [
    {
     "data": {
      "text/html": [
       "<div>\n",
       "<style scoped>\n",
       "    .dataframe tbody tr th:only-of-type {\n",
       "        vertical-align: middle;\n",
       "    }\n",
       "\n",
       "    .dataframe tbody tr th {\n",
       "        vertical-align: top;\n",
       "    }\n",
       "\n",
       "    .dataframe thead th {\n",
       "        text-align: right;\n",
       "    }\n",
       "</style>\n",
       "<table border=\"1\" class=\"dataframe\">\n",
       "  <thead>\n",
       "    <tr style=\"text-align: right;\">\n",
       "      <th></th>\n",
       "      <th>dt_adcode</th>\n",
       "      <th>dt_name</th>\n",
       "      <th>ct_adcode</th>\n",
       "      <th>ct_name</th>\n",
       "      <th>pr_adcode</th>\n",
       "      <th>pr_name</th>\n",
       "      <th>cn_adcode</th>\n",
       "      <th>cn_name</th>\n",
       "      <th>geometry</th>\n",
       "    </tr>\n",
       "  </thead>\n",
       "  <tbody>\n",
       "    <tr>\n",
       "      <th>5</th>\n",
       "      <td>530114</td>\n",
       "      <td>chenggong</td>\n",
       "      <td>530100</td>\n",
       "      <td>昆明市</td>\n",
       "      <td>530000</td>\n",
       "      <td>云南省</td>\n",
       "      <td>100000</td>\n",
       "      <td>中华人民共和国</td>\n",
       "      <td>POLYGON ((102.85321 24.69792, 102.85168 24.698...</td>\n",
       "    </tr>\n",
       "  </tbody>\n",
       "</table>\n",
       "</div>"
      ],
      "text/plain": [
       "  dt_adcode    dt_name ct_adcode ct_name pr_adcode pr_name cn_adcode  cn_name  \\\n",
       "5    530114  chenggong    530100     昆明市    530000     云南省    100000  中华人民共和国   \n",
       "\n",
       "                                            geometry  \n",
       "5  POLYGON ((102.85321 24.69792, 102.85168 24.698...  "
      ]
     },
     "execution_count": 10,
     "metadata": {},
     "output_type": "execute_result"
    }
   ],
   "source": [
    "kunming_out_2 = kunming_gpd.iloc[id_chenggong]\n",
    "kunming_out_2\n"
   ]
  },
  {
   "cell_type": "code",
   "execution_count": 11,
   "metadata": {},
   "outputs": [],
   "source": [
    "kunming_out_2.to_file(path_kunming_out_2)\n"
   ]
  },
  {
   "cell_type": "code",
   "execution_count": null,
   "metadata": {},
   "outputs": [],
   "source": []
  }
 ],
 "metadata": {
  "kernelspec": {
   "display_name": "venv",
   "language": "python",
   "name": "python3"
  },
  "language_info": {
   "codemirror_mode": {
    "name": "ipython",
    "version": 3
   },
   "file_extension": ".py",
   "mimetype": "text/x-python",
   "name": "python",
   "nbconvert_exporter": "python",
   "pygments_lexer": "ipython3",
   "version": "3.9.18"
  },
  "orig_nbformat": 4
 },
 "nbformat": 4,
 "nbformat_minor": 2
}
