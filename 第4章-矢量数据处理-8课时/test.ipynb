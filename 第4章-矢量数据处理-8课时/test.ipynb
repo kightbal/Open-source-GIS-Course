{
 "cells": [
  {
   "cell_type": "markdown",
   "metadata": {},
   "source": [
    "### 1 投影转换"
   ]
  },
  {
   "cell_type": "code",
   "execution_count": 1,
   "metadata": {},
   "outputs": [],
   "source": [
    "from osgeo import ogr\n",
    "from osgeo import osr\n"
   ]
  },
  {
   "cell_type": "code",
   "execution_count": 2,
   "metadata": {},
   "outputs": [],
   "source": [
    "path_kunming_districts = 'data/Section-2/kunming_districts.shp'\n"
   ]
  },
  {
   "cell_type": "markdown",
   "metadata": {},
   "source": [
    "epsg: 4326   \n",
    "utm: 326+zone -> 32648\n"
   ]
  },
  {
   "cell_type": "code",
   "execution_count": 6,
   "metadata": {},
   "outputs": [],
   "source": [
    "path_kunming_districts_utm = 'data/Section-4/kunming_districts_utm.shp'\n",
    "utm_epsg = 32648\n",
    "in_ds = ogr.Open(path_kunming_districts)\n",
    "in_layer = in_ds.GetLayer(0)\n",
    "## 创建输出矢量数据\n",
    "driver = ogr.GetDriverByName('ESRI Shapefile')\n",
    "out_ds = driver.CreateDataSource(path_kunming_districts_utm)\n",
    "out_layer = out_ds.CreateLayer('kunming_districts_utm', geom_type=ogr.wkbPolygon)\n",
    "for i in range(in_layer.GetFeature(0).GetFieldCount()):\n",
    "    field_defn = in_layer.GetFeature(0).GetFieldDefnRef(i)\n",
    "    out_layer.CreateField(field_defn)\n",
    "\n",
    "### 空间参考\n",
    "spatialRef = in_layer.GetSpatialRef() \n",
    "utm_spatialRef = osr.SpatialReference()\n",
    "utm_spatialRef.ImportFromEPSG(utm_epsg)\n",
    "## 定义投影转换\n",
    "coordinate_transform = osr.CoordinateTransformation(spatialRef, utm_spatialRef)\n",
    "\n",
    "### 获得要素定义\n",
    "FeaDefn = in_layer.GetLayerDefn()\n",
    "##遍历要素\n",
    "for i in range(in_layer.GetFeatureCount()):\n",
    "    in_fea = in_layer.GetFeature(i)\n",
    "    in_geo = in_fea.geometry()\n",
    "    in_geo.Transform(coordinate_transform)\n",
    "    out_geo = in_geo\n",
    "    out_fea = ogr.Feature(FeaDefn)\n",
    "    out_fea.SetGeometry(out_geo)\n",
    "    for j in range(FeaDefn.GetFieldCount()):\n",
    "        field_value = in_fea.GetField(j)\n",
    "        out_fea.SetField(j, field_value)\n",
    "    out_layer.CreateFeature(out_fea)\n",
    "\n",
    "ds = None\n",
    "out_ds = None\n",
    "\n",
    "### 保存投影文件\n",
    "prj_path = path_kunming_districts_utm.replace('.shp', '.prj')\n",
    "fn = open(prj_path, 'w')\n",
    "fn.write(utm_spatialRef.ExportToWkt())\n",
    "fn.close()\n",
    "\n",
    "\n"
   ]
  },
  {
   "cell_type": "markdown",
   "metadata": {},
   "source": [
    "2. 添加/删除面积\n"
   ]
  },
  {
   "cell_type": "code",
   "execution_count": 10,
   "metadata": {},
   "outputs": [],
   "source": [
    "ds = ogr.Open(path_kunming_districts_utm, 1)\n",
    "layer = ds.GetLayer(0)\n",
    "field_defn = ogr.FieldDefn('area(km2)', ogr.OFTReal)\n",
    "layer.CreateField(field_defn)\n",
    "ds = None\n",
    "\n"
   ]
  },
  {
   "cell_type": "code",
   "execution_count": 11,
   "metadata": {},
   "outputs": [
    {
     "name": "stdout",
     "output_type": "stream",
     "text": [
      "area is:  377.9959786954036\n",
      "area is:  864.2952967369314\n",
      "area is:  638.33361729476\n",
      "area is:  897.3967316211449\n",
      "area is:  1866.1175875335907\n",
      "area is:  499.3639638876685\n",
      "area is:  1338.5644973111487\n",
      "area is:  994.6751193008305\n",
      "area is:  1914.0921754168523\n",
      "area is:  1681.3428560105956\n",
      "area is:  828.4756858595108\n",
      "area is:  4227.345074248596\n",
      "area is:  3598.342900037223\n",
      "area is:  1301.0062596518314\n"
     ]
    }
   ],
   "source": [
    "ds = ogr.Open(path_kunming_districts_utm, 1)\n",
    "layer = ds.GetLayer(0)\n",
    "for i in range(layer.GetFeatureCount()):\n",
    "    fea = layer.GetFeature(i)\n",
    "    fea_area = fea.geometry().Area()\n",
    "    fea_area = fea_area/(1000*1000)\n",
    "    print('area is: ', fea_area)\n",
    "    fea.SetField('area(km2)', fea_area)\n",
    "    layer.SetFeature(fea)\n",
    "\n",
    "ds = None\n"
   ]
  },
  {
   "cell_type": "markdown",
   "metadata": {},
   "source": [
    "3. 获取要素几何中心点，新建中心点图层"
   ]
  },
  {
   "cell_type": "code",
   "execution_count": 12,
   "metadata": {},
   "outputs": [],
   "source": [
    "path_kunming_districts_centroid = 'data/Section-4/kunming_districts_centroid.shp'\n",
    "in_ds = ogr.Open(path_kunming_districts, 0)\n",
    "in_layer = in_ds.GetLayer(0)\n",
    "in_SpatialRef = in_layer.GetSpatialRef()\n",
    "\n",
    "### 创建矢量数据\n",
    "driver = ogr.GetDriverByName('ESRI Shapefile')\n",
    "out_ds = driver.CreateDataSource(path_kunming_districts_centroid)\n",
    "out_layer = out_ds.CreateLayer('kunming_districts_centroid', geom_type=ogr.wkbPoint, srs=in_SpatialRef)\n",
    "\n",
    "field_defn = ogr.FieldDefn('fid', ogr.OFTInteger)\n",
    "out_layer.CreateField(field_defn)\n",
    "out_fea_defn = out_layer.GetLayerDefn()\n",
    "\n",
    "for i in range(in_layer.GetFeatureCount()):\n",
    "    in_fea = in_layer.GetFeature(i)\n",
    "    out_geo = in_fea.geometry().Centroid()\n",
    "    out_fea = ogr.Feature(out_fea_defn)\n",
    "    out_fea.SetGeometry(out_geo)\n",
    "    out_fea.SetField('fid', i+1)\n",
    "    out_layer.CreateFeature(out_fea)\n",
    "\n",
    "out_ds = None\n",
    "ds = None\n"
   ]
  }
 ],
 "metadata": {
  "kernelspec": {
   "display_name": "venv",
   "language": "python",
   "name": "python3"
  },
  "language_info": {
   "codemirror_mode": {
    "name": "ipython",
    "version": 3
   },
   "file_extension": ".py",
   "mimetype": "text/x-python",
   "name": "python",
   "nbconvert_exporter": "python",
   "pygments_lexer": "ipython3",
   "version": "3.9.18"
  },
  "orig_nbformat": 4
 },
 "nbformat": 4,
 "nbformat_minor": 2
}
